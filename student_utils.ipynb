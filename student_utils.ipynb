{
  "nbformat": 4,
  "nbformat_minor": 0,
  "metadata": {
    "colab": {
      "provenance": []
    },
    "kernelspec": {
      "name": "python3",
      "display_name": "Python 3"
    },
    "language_info": {
      "name": "python"
    }
  },
  "cells": [
    {
      "cell_type": "code",
      "execution_count": 7,
      "metadata": {
        "colab": {
          "base_uri": "https://localhost:8080/"
        },
        "collapsed": true,
        "id": "OIy2SU-yZ1Jp",
        "outputId": "d4437a08-a707-41e7-bbf6-15e30662ba86"
      },
      "outputs": [
        {
          "output_type": "stream",
          "name": "stdout",
          "text": [
            "All students:\n",
            "   id       name  age grade\n",
            "0   1     Monish   21     A\n",
            "1   2      Ameer   22     B\n",
            "2   3     Lokesh   22     A\n",
            "3   4      Divya   21     B\n",
            "4   5     Floofy   21     A\n",
            "5   6  Augustine   22     A\n",
            "6   7      Krupa   21     B\n",
            "7   8    Meghana   21     C\n",
            "8   9     Simran   21     A\n",
            "9  10       Yash   22     A\n"
          ]
        }
      ],
      "source": [
        "import pandas as pd\n",
        "\n",
        "# read csv\n",
        "disp = pd.read_csv(\"students.csv\")\n",
        "\n",
        "print(\"All students:\")\n",
        "print(disp)\n",
        "\n"
      ]
    },
    {
      "cell_type": "code",
      "source": [
        "# search\n",
        "print(\"\\nSearch Floofy:\")\n",
        "print(disp[disp[\"name\"] == \"Floofy\"])\n",
        "\n",
        "# sort\n",
        "print(\"\\nSorted by grade:\")\n",
        "print(disp.sort_values(by=\"grade\"))\n"
      ],
      "metadata": {
        "colab": {
          "base_uri": "https://localhost:8080/"
        },
        "collapsed": true,
        "id": "1cg_6W_-bIq0",
        "outputId": "07e2c8c5-51ed-45ac-b5f9-756b0f693412"
      },
      "execution_count": 8,
      "outputs": [
        {
          "output_type": "stream",
          "name": "stdout",
          "text": [
            "\n",
            "Search Floofy:\n",
            "   id    name  age grade\n",
            "4   5  Floofy   21     A\n",
            "\n",
            "Sorted by grade:\n",
            "   id       name  age grade\n",
            "0   1     Monish   21     A\n",
            "2   3     Lokesh   22     A\n",
            "4   5     Floofy   21     A\n",
            "5   6  Augustine   22     A\n",
            "8   9     Simran   21     A\n",
            "9  10       Yash   22     A\n",
            "1   2      Ameer   22     B\n",
            "3   4      Divya   21     B\n",
            "6   7      Krupa   21     B\n",
            "7   8    Meghana   21     C\n"
          ]
        }
      ]
    },
    {
      "cell_type": "code",
      "source": [
        "import time\n",
        "\n",
        "def measure(df):\n",
        "    start = time.time()\n",
        "    n = len(df)\n",
        "    end = time.time()\n",
        "    return n, round(end - start, 4)\n"
      ],
      "metadata": {
        "id": "czWpZLgpbjEM"
      },
      "execution_count": 9,
      "outputs": []
    },
    {
      "cell_type": "code",
      "source": [
        "!pip install websockets nest_asyncio\n",
        "\n"
      ],
      "metadata": {
        "colab": {
          "base_uri": "https://localhost:8080/"
        },
        "id": "8nYDgaJsdZxC",
        "outputId": "4bed0faf-a30f-446d-c7be-b094aea32f54"
      },
      "execution_count": 11,
      "outputs": [
        {
          "output_type": "stream",
          "name": "stdout",
          "text": [
            "Requirement already satisfied: websockets in /usr/local/lib/python3.12/dist-packages (15.0.1)\n",
            "Requirement already satisfied: nest_asyncio in /usr/local/lib/python3.12/dist-packages (1.6.0)\n"
          ]
        }
      ]
    },
    {
      "cell_type": "code",
      "source": [
        "#server\n",
        "import asyncio\n",
        "import websockets\n",
        "import pandas as pd\n",
        "import json\n",
        "\n",
        "async def server_handler(websocket):\n",
        "    try:\n",
        "        message = await websocket.recv()\n",
        "        print(\"Received CSV data !!\")\n",
        "\n",
        "        # Convert JSON string back into DataFrame\n",
        "        df = pd.read_json(message)\n",
        "        print(df.head())   # show first 5 rows\n",
        "\n",
        "        await websocket.send(\"CSV file received and processed!\")\n",
        "    except Exception as e:\n",
        "        print(\"Server error:\", e)\n",
        "\n",
        "async def start_server():\n",
        "    server = await websockets.serve(server_handler, \"localhost\", 8851)  # changed port\n",
        "    print(\"Server running on ws://localhost:8851\")\n",
        "    return server\n",
        "\n",
        "server = await start_server()\n"
      ],
      "metadata": {
        "colab": {
          "base_uri": "https://localhost:8080/"
        },
        "id": "d0ndBaghiwDN",
        "outputId": "c7b5423a-1621-4195-97b4-292afa2e0285"
      },
      "execution_count": 43,
      "outputs": [
        {
          "output_type": "stream",
          "name": "stdout",
          "text": [
            "Server running on ws://localhost:8851\n"
          ]
        }
      ]
    },
    {
      "cell_type": "code",
      "source": [
        "#client\n",
        "import asyncio\n",
        "import websockets\n",
        "import pandas as pd\n",
        "\n",
        "async def client():\n",
        "    uri = \"ws://localhost:8851\"\n",
        "\n",
        "    df = pd.read_csv(\"students.csv\")\n",
        "    data = df.to_json()\n",
        "\n",
        "    async with websockets.connect(uri) as websocket:\n",
        "        await websocket.send(data)\n",
        "        reply = await websocket.recv()\n",
        "        print(f\"Server says: {reply}\")\n",
        "\n",
        "await client()\n"
      ],
      "metadata": {
        "colab": {
          "base_uri": "https://localhost:8080/"
        },
        "id": "u7NiGVL2i0LL",
        "outputId": "d417d36d-42de-4caf-d8a0-e8bb85e7596a"
      },
      "execution_count": 44,
      "outputs": [
        {
          "output_type": "stream",
          "name": "stdout",
          "text": [
            "Received CSV data !!\n",
            "   id    name  age grade\n",
            "0   1  Monish   21     A\n",
            "1   2   Ameer   22     B\n",
            "2   3  Lokesh   22     A\n",
            "3   4   Divya   21     B\n",
            "4   5  Floofy   21     A\n",
            "Server says: CSV file received and processed!\n"
          ]
        },
        {
          "output_type": "stream",
          "name": "stderr",
          "text": [
            "/tmp/ipython-input-2734791019.py:12: FutureWarning: Passing literal json to 'read_json' is deprecated and will be removed in a future version. To read from a literal string, wrap it in a 'StringIO' object.\n",
            "  df = pd.read_json(message)\n"
          ]
        }
      ]
    }
  ]
}